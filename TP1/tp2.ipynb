{
 "cells": [
  {
   "cell_type": "code",
   "execution_count": null,
   "metadata": {},
   "outputs": [
    {
     "ename": "",
     "evalue": "",
     "output_type": "error",
     "traceback": [
      "\u001b[1;31mFailed to start the Kernel. \n",
      "\u001b[1;31mJupyter server crashed. Unable to connect. \n",
      "\u001b[1;31mError code from Jupyter: 1\n",
      "\u001b[1;31musage: jupyter.py [-h] [--version] [--config-dir] [--data-dir] [--runtime-dir]\n",
      "\u001b[1;31m                  [--paths] [--json] [--debug]\n",
      "\u001b[1;31m                  [subcommand]\n",
      "\u001b[1;31m\n",
      "\u001b[1;31mJupyter: Interactive Computing\n",
      "\u001b[1;31m\n",
      "\u001b[1;31mpositional arguments:\n",
      "\u001b[1;31m  subcommand     the subcommand to launch\n",
      "\u001b[1;31m\n",
      "\u001b[1;31moptions:\n",
      "\u001b[1;31m  -h, --help     show this help message and exit\n",
      "\u001b[1;31m  --version      show the versions of core jupyter packages and exit\n",
      "\u001b[1;31m  --config-dir   show Jupyter config dir\n",
      "\u001b[1;31m  --data-dir     show Jupyter data dir\n",
      "\u001b[1;31m  --runtime-dir  show Jupyter runtime dir\n",
      "\u001b[1;31m  --paths        show all Jupyter paths. Add --json for machine-readable\n",
      "\u001b[1;31m                 format.\n",
      "\u001b[1;31m  --json         output paths as machine-readable json\n",
      "\u001b[1;31m  --debug        output debug information about paths\n",
      "\u001b[1;31m\n",
      "\u001b[1;31mAvailable subcommands: dejavu execute migrate nbconvert troubleshoot trust\n",
      "\u001b[1;31m\n",
      "\u001b[1;31m\n",
      "\u001b[1;31mJupyter command `jupyter-notebook` not found. \n",
      "\u001b[1;31mView Jupyter <a href='command:jupyter.viewOutput'>log</a> for further details."
     ]
    }
   ],
   "source": [
    "import comnumfip \n",
    "import numpy as np\n",
    "import matplotlib.pyplot as plt\n",
    "import scipy.signal as signal\n",
    "\n",
    "N=100\n",
    "\n",
    "seq = comnumfip.randmary(N,[0.3, 0.7])\n",
    "print(seq)\n",
    "\n",
    "def showSignal(mod,point,title):\n",
    "    plt.plot(mod,point)\n",
    "    # Des légendes, c'est toujours bien !\n",
    "    plt.title(title)\n",
    "    # Affichage (pas toujours nécessaire, mais parfois c'est indispensable)\n",
    "    plt.show()\n",
    "\n",
    "\n",
    "modD,pointD = comnumfip.mod_d(seq,1,1)\n",
    "showSignal(modD,pointD,\"Modulation D\")\n",
    "y = comnumfip.channel(pointD,np.inf,0.5,1)\n",
    "showSignal(modD,y,\"Modulation D\")\n",
    "\n",
    "erreur = pointD-y\n",
    "\n",
    "nbErreur = np.sum(np.absolute(erreur))\n",
    "\n",
    "print((nbErreur/len(erreur))*100)\n",
    "\n",
    "output = comnumfip.sample_and_threshold(y,0,0)\n",
    "print(output)\n",
    "\n",
    "T=1\n",
    "fe=100\n",
    "t= np.arange(0,T,1/fe)\n",
    "motif = np.where((t<=(T)),1,0)\n",
    "\n",
    "filtered_signal = np.convolve(y, motif[::-1],mode=\"same\")\n",
    "\n",
    "#canal idéal fréquence de coupure infini -> x convolué à un Dirac \n",
    "\n",
    "\n",
    "\n",
    "showSignal(modD,filtered_signal,\"Signal filtré\")\n",
    "\n",
    "erreur1 = pointD-filtered_signal\n",
    "\n",
    "nbErreur1= np.sum(np.absolute(erreur1))\n",
    "\n",
    "print((nbErreur1/len(erreur1))*100)\n",
    "\n",
    "\n",
    "print(comnumfip.sample_and_threshold(filtered_signal,0,0))"
   ]
  },
  {
   "cell_type": "code",
   "execution_count": null,
   "metadata": {},
   "outputs": [],
   "source": []
  }
 ],
 "metadata": {
  "kernelspec": {
   "display_name": "Python 3",
   "language": "python",
   "name": "python3"
  },
  "language_info": {
   "codemirror_mode": {
    "name": "ipython",
    "version": 3
   },
   "file_extension": ".py",
   "mimetype": "text/x-python",
   "name": "python",
   "nbconvert_exporter": "python",
   "pygments_lexer": "ipython3",
   "version": "3.10.1"
  },
  "orig_nbformat": 4,
  "vscode": {
   "interpreter": {
    "hash": "aee8b7b246df8f9039afb4144a1f6fd8d2ca17a180786b69acc140d282b71a49"
   }
  }
 },
 "nbformat": 4,
 "nbformat_minor": 2
}
