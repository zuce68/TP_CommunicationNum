{
 "cells": [
  {
   "attachments": {},
   "cell_type": "markdown",
   "metadata": {},
   "source": [
    "# TP3 : Codage CANAL\n",
    "## L'objectif de ce tp est de réaliser différents codages canal, codes en bloc et codes convolutifs"
   ]
  },
  {
   "cell_type": "code",
   "execution_count": 1,
   "metadata": {},
   "outputs": [
    {
     "ename": "ModuleNotFoundError",
     "evalue": "No module named 'commnumfip'",
     "output_type": "error",
     "traceback": [
      "\u001b[0;31m---------------------------------------------------------------------------\u001b[0m",
      "\u001b[0;31mModuleNotFoundError\u001b[0m                       Traceback (most recent call last)",
      "\u001b[1;32m/Users/pierremisiuk/Desktop/FIP 2A/TP_CommunicationNum/TP2/TP3.ipynb Cell 2\u001b[0m in \u001b[0;36m1\n\u001b[0;32m----> <a href='vscode-notebook-cell:/Users/pierremisiuk/Desktop/FIP%202A/TP_CommunicationNum/TP2/TP3.ipynb#W4sZmlsZQ%3D%3D?line=0'>1</a>\u001b[0m \u001b[39mimport\u001b[39;00m \u001b[39mcommnumfip\u001b[39;00m\n\u001b[1;32m      <a href='vscode-notebook-cell:/Users/pierremisiuk/Desktop/FIP%202A/TP_CommunicationNum/TP2/TP3.ipynb#W4sZmlsZQ%3D%3D?line=1'>2</a>\u001b[0m \u001b[39mimport\u001b[39;00m \u001b[39mkomm\u001b[39;00m\n\u001b[1;32m      <a href='vscode-notebook-cell:/Users/pierremisiuk/Desktop/FIP%202A/TP_CommunicationNum/TP2/TP3.ipynb#W4sZmlsZQ%3D%3D?line=4'>5</a>\u001b[0m code \u001b[39m=\u001b[39m komm\u001b[39m.\u001b[39mBlockCode(parity_submatrix\u001b[39m=\u001b[39m[[\u001b[39m0\u001b[39m, \u001b[39m1\u001b[39m, \u001b[39m1\u001b[39m], [\u001b[39m1\u001b[39m, \u001b[39m0\u001b[39m, \u001b[39m1\u001b[39m], [\u001b[39m1\u001b[39m, \u001b[39m1\u001b[39m, \u001b[39m0\u001b[39m]])\n",
      "\u001b[0;31mModuleNotFoundError\u001b[0m: No module named 'commnumfip'"
     ]
    }
   ],
   "source": [
    "import commnumfip\n",
    "import komm\n",
    "\n",
    "\n",
    "code = komm.BlockCode(parity_submatrix=[[0, 1, 1], [1, 0, 1], [1, 1, 0]])"
   ]
  }
 ],
 "metadata": {
  "kernelspec": {
   "display_name": "Python 3",
   "language": "python",
   "name": "python3"
  },
  "language_info": {
   "codemirror_mode": {
    "name": "ipython",
    "version": 3
   },
   "file_extension": ".py",
   "mimetype": "text/x-python",
   "name": "python",
   "nbconvert_exporter": "python",
   "pygments_lexer": "ipython3",
   "version": "3.10.1"
  },
  "orig_nbformat": 4
 },
 "nbformat": 4,
 "nbformat_minor": 2
}
