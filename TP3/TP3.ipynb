{
 "cells": [
  {
   "attachments": {},
   "cell_type": "markdown",
   "metadata": {},
   "source": [
    "# TP3 : Codage CANAL\n",
    "## L'objectif de ce tp est de réaliser différents codages canal, codes en bloc et codes convolutifs"
   ]
  },
  {
   "cell_type": "code",
   "execution_count": 401,
   "metadata": {},
   "outputs": [
    {
     "name": "stdout",
     "output_type": "stream",
     "text": [
      "Parity Message : [0 0 0 0]\n",
      "Parity Code : [0 0 0 0 0]\n",
      "Parity Decode : [1 0 1 0]\n",
      "Hamming Message : [1 1 0 1]\n",
      "Hamming Code : [1 1 1 1 1 0 0]\n",
      "Hamming Decode : [1 1 0 1]\n",
      "Convolve Message : [1 1 1 0 1]\n",
      "Convolve Code : [1 1 1 1 1 0 0 1 0 0 1 0 1 1]\n",
      "Convolve Decode : [1 1 1 0 1]\n",
      "Parity Message : [0 1 1 0]\n",
      "Parity Code : [0 1 1 0 0]\n",
      "Parity Decode : [0 1 1 0]\n",
      "Convolve Message : [0 1 1 0]\n",
      "Convolve Code : [0 1 1 0]\n",
      "Convolve Decode : [0 1 1 0]\n"
     ]
    }
   ],
   "source": [
    "import numpy as np\n",
    "import komm\n",
    "import comnumfip as cf\n",
    "\n",
    "\n",
    "c = komm.SingleParityCheckCode(5)\n",
    "message = cf.randmary(4,[0.5, 0.5])\n",
    "print(\"Parity Message : \"+str(message))\n",
    "code = c.encode(message,method=None)\n",
    "print(\"Parity Code : \"+str(code))\n",
    "code[2]=1\n",
    "decode = c.decode(code,method=None)\n",
    "print(\"Parity Decode : \"+str(decode))\n",
    "\n",
    "c2 = komm.HammingCode(3, extended=False)\n",
    "message2 = cf.randmary(4,[0.5, 0.5])\n",
    "print(\"Hamming Message : \"+str(message2))\n",
    "code2 = c2.encode(message2,method=None)\n",
    "code2[2]=1\n",
    "print(\"Hamming Code : \"+str(code2))\n",
    "decode2 = c2.decode(code2,method=None)\n",
    "print(\"Hamming Decode : \"+str(decode2))\n",
    "\n",
    "\n",
    "Convolutif = komm.ConvolutionalCode(feedforward_polynomials=[[0o7, 0o5]])\n",
    "codeConvolutif = komm.TerminatedConvolutionalCode(Convolutif, num_blocks=5, mode='zero-termination')\n",
    "message3 = cf.randmary(5,[0.5, 0.5])\n",
    "print(\"Convolve Message : \"+str(message3))\n",
    "code3 = codeConvolutif.encode(message3)\n",
    "code3[2]=1\n",
    "code3[3]=1\n",
    "\n",
    "print(\"Convolve Code : \"+str(code3))\n",
    "decode3 = codeConvolutif.decode(code3)\n",
    "print(\"Convolve Decode : \"+str(decode3))\n",
    "\n",
    "#Simulation avec erreur\n",
    "\n",
    "taillemessage=4\n",
    "bsc = komm.BinarySymmetricChannel(0.01)\n",
    "message = cf.randmary(taillemessage,[0.5, 0.5])\n",
    "c = komm.SingleParityCheckCode(taillemessage+1)\n",
    "print(\"Parity Message : \"+str(message))\n",
    "code = c.encode(message,method=None)\n",
    "print(\"Parity Code : \"+str(code))\n",
    "code = bsc(code)\n",
    "decode = c.decode(code,method=None)\n",
    "print(\"Parity Decode : \"+str(decode))\n",
    "\n",
    "Convolutif = komm.ConvolutionalCode(feedforward_polynomials=[[0o7, 0o5]])\n",
    "codeConvolutif = komm.TerminatedConvolutionalCode(Convolutif, num_blocks=4, mode='zero-termination')\n",
    "print(\"Convolve Message : \"+str(message))\n",
    "code3 = codeConvolutif.encode(message)\n",
    "print(\"Convolve Code : \"+str(message))\n",
    "code3 = bsc(code3)\n",
    "decode3 = codeConvolutif.decode(code3)\n",
    "print(\"Convolve Decode : \"+str(decode3))\n"
   ]
  }
 ],
 "metadata": {
  "kernelspec": {
   "display_name": "Python 3",
   "language": "python",
   "name": "python3"
  },
  "language_info": {
   "name": "python",
   "version": "3.10.1"
  },
  "orig_nbformat": 4
 },
 "nbformat": 4,
 "nbformat_minor": 2
}
